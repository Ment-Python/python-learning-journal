{
 "cells": [
  {
   "cell_type": "code",
   "execution_count": 16,
   "metadata": {},
   "outputs": [],
   "source": [
    "import random\n",
    "import time\n",
    "import matplotlib.pyplot as plt\n",
    "from tqdm import tqdm"
   ]
  },
  {
   "cell_type": "code",
   "execution_count": 17,
   "metadata": {},
   "outputs": [],
   "source": [
    "# Step 1/2: merge sort algorithm\n",
    "def merge_sort(a):\n",
    "    # base case\n",
    "\tif len(a) <= 1:\n",
    "\t\treturn a\n",
    "\t\n",
    "    # dnq\n",
    "\tmid = len(a) // 2\n",
    "\tleft = merge_sort(a[:mid])\n",
    "\tright = merge_sort(a[mid:])\n",
    "\ti, j, k = 0, 0, 0\n",
    "\n",
    "    # merge\n",
    "\twhile i < len(left) and j < len(right):\n",
    "\t\tif left[i] < right[j]:\n",
    "\t\t\ta[k] = left[i]\n",
    "\t\t\ti += 1\n",
    "\t\telse:\n",
    "\t\t\ta[k] = right[j]\n",
    "\t\t\tj += 1\n",
    "\t\tk += 1\n",
    "    \n",
    "    # excess\n",
    "\twhile i < len(left):\n",
    "\t\ta[k] = left[i]\n",
    "\t\ti += 1\n",
    "\t\tk += 1\n",
    "\twhile j < len(right):\n",
    "\t\ta[k] = right[j]\n",
    "\t\tj += 1\n",
    "\t\tk += 1\n",
    "\t\n",
    "\treturn a"
   ]
  },
  {
   "cell_type": "code",
   "execution_count": 18,
   "metadata": {},
   "outputs": [],
   "source": [
    "# case generator - random permutation\n",
    "def gen_case(N):\n",
    "    a = list(range(1, N+1))\n",
    "    random.shuffle(a)\n",
    "    return a\n"
   ]
  },
  {
   "cell_type": "code",
   "execution_count": 19,
   "metadata": {},
   "outputs": [
    {
     "name": "stderr",
     "output_type": "stream",
     "text": [
      "100%|██████████| 10/10 [00:15<00:00,  1.59s/it]\n"
     ]
    }
   ],
   "source": [
    "# Step 3/4 - testing\n",
    "xs = []\n",
    "ys = []\n",
    "for N in tqdm(range(1, 1000001, 100000)):\n",
    "    a = gen_case(N) # generate random case\n",
    "    xs.append(N)\n",
    "    st = time.time()\n",
    "    merge_sort(a) # measure time\n",
    "    ys.append(time.time() - st)"
   ]
  },
  {
   "cell_type": "code",
   "execution_count": 20,
   "metadata": {},
   "outputs": [
    {
     "data": {
      "text/plain": [
       "Text(0, 0.5, 'Time')"
      ]
     },
     "execution_count": 20,
     "metadata": {},
     "output_type": "execute_result"
    },
    {
     "data": {
      "image/png": "[encoded data removed]",
      "text/plain": [
       "<Figure size 640x480 with 1 Axes>"
      ]
     },
     "metadata": {},
     "output_type": "display_data"
    }
   ],
   "source": [
    "# Step 5 - Plotting\n",
    "plt.scatter(xs, ys)\n",
    "plt.title('Array Size vs. Time')\n",
    "plt.xlabel('Array Size')\n",
    "plt.ylabel('Time')"
   ]
  },
  {
   "cell_type": "markdown",
   "metadata": {},
   "source": [
    "# Report\n",
    "#### **Merge Sort**\n",
    "The sorting algorithm I chose to implement for week 4 homework was merge sort. Merge sort works as a divide and conquer appraoch by splitting the array into two and recursively sorting each half.\n",
    "\n",
    "#### **Complexity**\n",
    "Because an array of length N can be split in half at most logN times, the recursion depth is at most logN. Also, since merging requires iterating over both half in O(N), the total time complexity of merge sort is O(NlogN). Thus, merge sort serves as a comparatively quick sorting algorithm.\n",
    "\n",
    "#### **Implementation**\n",
    "1. Base case to check if the length of the array is 1 (all elements are in sorted order)\n",
    "2. Split array into have and recursively sort each half\n",
    "3. Use two pointers to merge the two halves in O(N)\n",
    "4. Assuming the two halves are not equal length, we add the excess from the larger one\n",
    "5. We return the sorted segment from [L, R]\n",
    "\n",
    "#### **Time Benchmarks**\n",
    "In order to measure the runtime of merge sort, I created a function to randomly generate testcases of length N by generating a random permutation. We generate cases $\\forall i \\in \\{1, 100001, 200001, \\ldots, 900001\\}\n",
    "$ and record the values into (x, y) pairs where $x = N$ and $y = T(N)$.\n",
    "\n",
    "#### **Results**\n",
    "The results are as expected. The time complexity of merge sort is O(NlogN), which basically looks like a linear function slightly curved up. We can see from the graph above that this progression matches the expected features.\n"
   ]
  },
  {
   "cell_type": "markdown",
   "metadata": {},
   "source": []
  }
 ],
 "metadata": {
  "kernelspec": {
   "display_name": "dsa",
   "language": "python",
   "name": "python3"
  },
  "language_info": {
   "codemirror_mode": {
    "name": "ipython",
    "version": 3
   },
   "file_extension": ".py",
   "mimetype": "text/x-python",
   "name": "python",
   "nbconvert_exporter": "python",
   "pygments_lexer": "ipython3",
   "version": "3.10.14"
  }
 },
 "nbformat": 4,
 "nbformat_minor": 2
}
